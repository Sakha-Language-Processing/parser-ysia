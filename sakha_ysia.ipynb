{
  "nbformat": 4,
  "nbformat_minor": 0,
  "metadata": {
    "colab": {
      "name": "sakha_ysia.ipynb",
      "provenance": [],
      "collapsed_sections": []
    },
    "kernelspec": {
      "name": "python3",
      "display_name": "Python 3"
    },
    "language_info": {
      "name": "python"
    }
  },
  "cells": [
    {
      "cell_type": "code",
      "metadata": {
        "id": "6tDBezvSGwAx"
      },
      "source": [
        "from multiprocessing import Pool, Process, Queue\n",
        "from datetime import datetime, timedelta\n",
        "from bs4 import BeautifulSoup as bs\n",
        "import requests\n",
        "import pandas as pd\n",
        "import re"
      ],
      "execution_count": 1,
      "outputs": []
    },
    {
      "cell_type": "code",
      "metadata": {
        "colab": {
          "base_uri": "https://localhost:8080/"
        },
        "id": "pWGxB1m6UxuZ",
        "outputId": "2988aae3-cdc6-4ca6-b7d8-ae549b8139ba"
      },
      "source": [
        "# генерация random user agents для обхода блокировок от сайта\n",
        "!pip install random_user_agent\n",
        "import random\n",
        "from random_user_agent.user_agent import UserAgent\n",
        "from random_user_agent.params import SoftwareName, OperatingSystem\n",
        "software_names = [SoftwareName.CHROME.value]\n",
        "operating_systems = [OperatingSystem.WINDOWS.value, OperatingSystem.LINUX.value]   \n",
        "user_agent_rotator = UserAgent(software_names=software_names, operating_systems=operating_systems, limit=300)\n",
        "user_agents = user_agent_rotator.get_user_agents()\n",
        "user_agent = user_agent_rotator.get_random_user_agent()\n",
        "\n",
        "agents_list = []\n",
        "for i in range(150):\n",
        "    i = user_agent_rotator.get_random_user_agent()\n",
        "    agents_list.append(i)"
      ],
      "execution_count": 2,
      "outputs": [
        {
          "output_type": "stream",
          "text": [
            "Collecting random_user_agent\n",
            "\u001b[?25l  Downloading https://files.pythonhosted.org/packages/61/88/8a953b6f08d7cc709695be1a640cdd3a50996636e675381c2b3ec2d7ec44/random_user_agent-1.0.1-py3-none-any.whl (8.2MB)\n",
            "\u001b[K     |████████████████████████████████| 8.2MB 7.4MB/s \n",
            "\u001b[?25hInstalling collected packages: random-user-agent\n",
            "Successfully installed random-user-agent-1.0.1\n"
          ],
          "name": "stdout"
        }
      ]
    },
    {
      "cell_type": "code",
      "metadata": {
        "colab": {
          "base_uri": "https://localhost:8080/"
        },
        "id": "MY-82Z-KHJDS",
        "outputId": "73faf19b-2e0d-4c56-ba6c-928a57a3dbb0"
      },
      "source": [
        "# сбор ссылок по страницам\n",
        "%%time\n",
        "range_n = [i for i in range(952)]\n",
        "\n",
        "\n",
        "def fill_urls(number):\n",
        "    links = []\n",
        "    http = 'http://sakha.ysia.ru/page/{}/?filter_by=popular'.format(number)\n",
        "    page = requests.get(http, headers = {'User-Agent': random.choice(agents_list)})\n",
        "    soup = bs(page.text, 'html.parser')\n",
        "    all_posts = soup.find('div', class_= 'td-ss-main-content')\n",
        "    posts = all_posts.find_all('div', class_ = 'item-details')\n",
        "    for x in posts:\n",
        "        link = x.find('a')['href']\n",
        "        links.append(link)\n",
        "    return links\n",
        "\n",
        "\n",
        "big_links = []\n",
        "p = Pool(24)\n",
        "\n",
        "\n",
        "for links in p.map(fill_urls, range_n):\n",
        "    big_links.extend(links)\n",
        "print('number of news:', len(big_links))\n",
        "\n",
        "p.terminate()\n",
        "p.join()"
      ],
      "execution_count": 7,
      "outputs": [
        {
          "output_type": "stream",
          "text": [
            "number of news: 9511\n",
            "CPU times: user 411 ms, sys: 259 ms, total: 670 ms\n",
            "Wall time: 55.8 s\n"
          ],
          "name": "stdout"
        }
      ]
    },
    {
      "cell_type": "code",
      "metadata": {
        "colab": {
          "base_uri": "https://localhost:8080/"
        },
        "id": "2Xi2xIRiIDV2",
        "outputId": "f9991a9f-5228-446f-a092-e63739bad1f6"
      },
      "source": [
        "# запуск сбора данных из ссылок\n",
        "%%time\n",
        "\n",
        "\n",
        "def parse(link):\n",
        "    dataframe = []\n",
        "    page = requests.get(link, headers = {'User-Agent': random.choice(agents_list)})\n",
        "    if page.status_code==200:\n",
        "        soup = bs(page.text, 'html.parser')\n",
        "        if soup is not None:\n",
        "            content = soup.find('div', class_='td-post-content')\n",
        "            if soup.find('time') is not None:\n",
        "                date = soup.find('time').text.split(' ')[0]\n",
        "                if soup.find('h1', class_= 'entry-title') is not None:\n",
        "                    title = soup.find('h1', class_= 'entry-title').text\n",
        "                    text = ''\n",
        "                    if content.find_all('p') is not None:\n",
        "                        all_text = content.find_all('p')\n",
        "                        for i in all_text:\n",
        "                            text += ' '+ i.text\n",
        "                        if text is not None:\n",
        "                            text = re.sub(r\"\\s{2,}\", \"\", text).replace('\\n', '')\n",
        "                            dataframe.append((date, link, title, text))\n",
        "                            return dataframe\n",
        "\n",
        "\n",
        "df_info = []\n",
        "p = Pool(24)\n",
        "\n",
        "for dataframe in p.map(parse, big_links):\n",
        "    if dataframe:\n",
        "        df_info.extend(dataframe)\n",
        "    else: \n",
        "        continue\n",
        "p.terminate()\n",
        "p.join()\n",
        "\n",
        "len(df_info)"
      ],
      "execution_count": 9,
      "outputs": [
        {
          "output_type": "stream",
          "text": [
            "CPU times: user 3.64 s, sys: 1.42 s, total: 5.06 s\n",
            "Wall time: 9min 2s\n"
          ],
          "name": "stdout"
        }
      ]
    },
    {
      "cell_type": "code",
      "metadata": {
        "id": "EJ4j08EkSmr7"
      },
      "source": [
        "df = pd.DataFrame(df_info, columns=['date', 'link', 'title', 'all_text'])\n",
        "df.to_csv('sakha_ysia.csv', index=False)"
      ],
      "execution_count": 10,
      "outputs": []
    }
  ]
}